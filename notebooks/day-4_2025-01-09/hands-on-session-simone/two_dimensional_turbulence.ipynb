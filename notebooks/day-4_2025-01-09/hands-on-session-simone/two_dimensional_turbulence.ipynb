{
 "cells": [
  {
   "cell_type": "markdown",
   "source": [
    "# Two dimensional turbulence example\n",
    "\n",
    "In this example, we initialize a random velocity field and observe its turbulent decay\n",
    "in a two-dimensional domain. This example demonstrates:\n",
    "\n",
    "  * How to run a model with no tracers and no buoyancy model.\n",
    "  * How to use computed `Field`s to generate output."
   ],
   "metadata": {}
  },
  {
   "cell_type": "markdown",
   "source": [
    "## Install dependencies\n",
    "\n",
    "First let's make sure we have all required packages installed."
   ],
   "metadata": {}
  },
  {
   "cell_type": "markdown",
   "source": [
    "```julia\n",
    "using Pkg\n",
    "pkg\"add Oceananigans, CairoMakie\"\n",
    "```"
   ],
   "metadata": {}
  },
  {
   "cell_type": "markdown",
   "source": [
    "## Model setup"
   ],
   "metadata": {}
  },
  {
   "cell_type": "markdown",
   "source": [
    "We instantiate the model with an isotropic diffusivity. We use a grid with 128² points,\n",
    "a fifth-order advection scheme, third-order Runge-Kutta time-stepping,\n",
    "and a small isotropic viscosity.  Note that we assign `Flat` to the `z` direction."
   ],
   "metadata": {}
  },
  {
   "cell_type": "markdown",
   "source": [
    "Note!!! The grid is too coarse to resolve the smallest scales of turbulence (Kolmogorov scales).\n",
    "If you have a GPU available, you can run this example with a 512x512 grid"
   ],
   "metadata": {}
  },
  {
   "outputs": [],
   "cell_type": "code",
   "source": [
    "using Oceananigans\n",
    "\n",
    "grid = RectilinearGrid(size=(128, 128), extent=(2π, 2π), topology=(Periodic, Periodic, Flat))\n",
    "\n",
    "advection   = UpwindBiased(order=5)\n",
    "closure     = ScalarDiffusivity(ν=1e-5)\n",
    "timestepper = :RungeKutta3\n",
    "\n",
    "model = NonhydrostaticModel(; grid, advection, closure, timestepper)"
   ],
   "metadata": {},
   "execution_count": null
  },
  {
   "cell_type": "markdown",
   "source": [
    "## Random initial conditions\n",
    "\n",
    "Our initial condition randomizes `model.velocities.u` and `model.velocities.v`.\n",
    "We ensure that both have zero mean for aesthetic reasons."
   ],
   "metadata": {}
  },
  {
   "outputs": [],
   "cell_type": "code",
   "source": [
    "using Statistics\n",
    "\n",
    "u, v, w = model.velocities\n",
    "\n",
    "uᵢ(x, y) = 0.3 * randn()\n",
    "vᵢ(x, y) = 0.3 * randn()\n",
    "\n",
    "set!(model, u=uᵢ, v=vᵢ)"
   ],
   "metadata": {},
   "execution_count": null
  },
  {
   "cell_type": "markdown",
   "source": [
    "## Setting up a simulation\n",
    "\n",
    "We set-up a simulation that stops at 50 time units, with an initial\n",
    "time-step of 0.1, and with adaptive time-stepping and progress printing."
   ],
   "metadata": {}
  },
  {
   "outputs": [],
   "cell_type": "code",
   "source": [
    "simulation = Simulation(model, Δt=0.2, stop_time=50)"
   ],
   "metadata": {},
   "execution_count": null
  },
  {
   "cell_type": "markdown",
   "source": [
    "The `TimeStepWizard` helps ensure stable time-stepping\n",
    "with a Courant-Freidrichs-Lewy (CFL) number of 0.7."
   ],
   "metadata": {}
  },
  {
   "outputs": [],
   "cell_type": "code",
   "source": [
    "conjure_time_step_wizard!(simulation, cfl=0.7, max_change=1.1, max_Δt=0.5)"
   ],
   "metadata": {},
   "execution_count": null
  },
  {
   "cell_type": "markdown",
   "source": [
    "## Logging simulation progress\n",
    "\n",
    "We set up a callback that logs the simulation iteration and time every 100 iterations."
   ],
   "metadata": {}
  },
  {
   "outputs": [],
   "cell_type": "code",
   "source": [
    "using Printf\n",
    "\n",
    "function progress_message(sim)\n",
    "    max_abs_u = maximum(abs, sim.model.velocities.u)\n",
    "    walltime = prettytime(sim.run_wall_time)\n",
    "\n",
    "    return @info @sprintf(\"Iteration: %04d, time: %1.3f, Δt: %.2e, max(|u|) = %.1e, wall time: %s\\n\",\n",
    "                          iteration(sim), time(sim), sim.Δt, max_abs_u, walltime)\n",
    "end\n",
    "\n",
    "add_callback!(simulation, progress_message, IterationInterval(100))"
   ],
   "metadata": {},
   "execution_count": null
  },
  {
   "cell_type": "markdown",
   "source": [
    "## Output\n",
    "\n",
    "We set up an output writer for the simulation that saves vorticity and speed every 20 iterations.\n",
    "\n",
    "### Computing vorticity and speed\n",
    "\n",
    "To make our equations prettier, we unpack `u`, `v`, and `w` from\n",
    "the `NamedTuple` model.velocities:"
   ],
   "metadata": {}
  },
  {
   "outputs": [],
   "cell_type": "code",
   "source": [
    "u, v, w = model.velocities"
   ],
   "metadata": {},
   "execution_count": null
  },
  {
   "cell_type": "markdown",
   "source": [
    "Next we create two `Field`s that calculate\n",
    "_(i)_ vorticity that measures the rate at which the fluid rotates\n",
    "and is defined as\n",
    "\n",
    "$$\n",
    "ω = ∂_x v - ∂_y u \\, ,\n",
    "$$"
   ],
   "metadata": {}
  },
  {
   "outputs": [],
   "cell_type": "code",
   "source": [
    "ω = ∂x(v) - ∂y(u)"
   ],
   "metadata": {},
   "execution_count": null
  },
  {
   "cell_type": "markdown",
   "source": [
    "We also calculate _(ii)_ the _speed_ of the flow,\n",
    "\n",
    "$$\n",
    "s = \\sqrt{u^2 + v^2} \\, .\n",
    "$$"
   ],
   "metadata": {}
  },
  {
   "outputs": [],
   "cell_type": "code",
   "source": [
    "s = sqrt(u^2 + v^2)"
   ],
   "metadata": {},
   "execution_count": null
  },
  {
   "cell_type": "markdown",
   "source": [
    "We pass these operations to an output writer below to calculate and output them during the simulation."
   ],
   "metadata": {}
  },
  {
   "outputs": [],
   "cell_type": "code",
   "source": [
    "filename = \"two_dimensional_turbulence\"\n",
    "\n",
    "simulation.output_writers[:fields] = JLD2OutputWriter(model, (; ω, s),\n",
    "                                                      schedule = TimeInterval(0.6),\n",
    "                                                      filename = filename * \".jld2\",\n",
    "                                                      overwrite_existing = true)"
   ],
   "metadata": {},
   "execution_count": null
  },
  {
   "cell_type": "markdown",
   "source": [
    "## Running the simulation\n",
    "\n",
    "Pretty much just"
   ],
   "metadata": {}
  },
  {
   "outputs": [],
   "cell_type": "code",
   "source": [
    "run!(simulation)"
   ],
   "metadata": {},
   "execution_count": null
  },
  {
   "cell_type": "markdown",
   "source": [
    "## Visualizing the results\n",
    "\n",
    "We load the output."
   ],
   "metadata": {}
  },
  {
   "outputs": [],
   "cell_type": "code",
   "source": [
    "ω_timeseries = FieldTimeSeries(filename * \".jld2\", \"ω\")\n",
    "s_timeseries = FieldTimeSeries(filename * \".jld2\", \"s\")\n",
    "\n",
    "times = ω_timeseries.times\n",
    "nothing #hide"
   ],
   "metadata": {},
   "execution_count": null
  },
  {
   "cell_type": "markdown",
   "source": [
    "and animate the vorticity and fluid speed."
   ],
   "metadata": {}
  },
  {
   "outputs": [],
   "cell_type": "code",
   "source": [
    "using CairoMakie\n",
    "set_theme!(Theme(fontsize = 24))\n",
    "\n",
    "fig = Figure(size = (800, 500))\n",
    "\n",
    "axis_kwargs = (xlabel = \"x\",\n",
    "               ylabel = \"y\",\n",
    "               limits = ((0, 2π), (0, 2π)),\n",
    "               aspect = AxisAspect(1))\n",
    "\n",
    "ax_ω = Axis(fig[2, 1]; title = \"Vorticity\", axis_kwargs...)\n",
    "ax_s = Axis(fig[2, 2]; title = \"Speed\", axis_kwargs...)\n",
    "nothing #hide"
   ],
   "metadata": {},
   "execution_count": null
  },
  {
   "cell_type": "markdown",
   "source": [
    "We use Makie's `Observable` to animate the data. To dive into how `Observable`s work we\n",
    "refer to [Makie.jl's Documentation](https://makie.juliaplots.org/stable/documentation/nodes/index.html)."
   ],
   "metadata": {}
  },
  {
   "outputs": [],
   "cell_type": "code",
   "source": [
    "n = Observable(1)"
   ],
   "metadata": {},
   "execution_count": null
  },
  {
   "cell_type": "markdown",
   "source": [
    "Now let's plot the vorticity and speed."
   ],
   "metadata": {}
  },
  {
   "outputs": [],
   "cell_type": "code",
   "source": [
    "ω = @lift ω_timeseries[$n]\n",
    "s = @lift s_timeseries[$n]\n",
    "\n",
    "heatmap!(ax_ω, ω; colormap = :balance, colorrange = (-2, 2))\n",
    "heatmap!(ax_s, s; colormap = :speed, colorrange = (0, 0.2))\n",
    "\n",
    "title = @lift \"t = \" * string(round(times[$n], digits=2))\n",
    "Label(fig[1, 1:2], title, fontsize=24, tellwidth=false)\n",
    "\n",
    "current_figure() #hide\n",
    "fig"
   ],
   "metadata": {},
   "execution_count": null
  },
  {
   "cell_type": "markdown",
   "source": [
    "Finally, we record a movie."
   ],
   "metadata": {}
  },
  {
   "outputs": [],
   "cell_type": "code",
   "source": [
    "frames = 1:length(times)\n",
    "\n",
    "@info \"Making a neat animation of vorticity and speed...\"\n",
    "\n",
    "record(fig, filename * \".mp4\", frames, framerate=24) do i\n",
    "    @info \"Frame $i of $(last(frames))\"\n",
    "    n[] = i\n",
    "end\n",
    "nothing #hide"
   ],
   "metadata": {},
   "execution_count": null
  },
  {
   "cell_type": "markdown",
   "source": [
    "![](two_dimensional_turbulence.mp4)"
   ],
   "metadata": {}
  },
  {
   "cell_type": "markdown",
   "source": [
    "---\n",
    "\n",
    "*This notebook was generated using [Literate.jl](https://github.com/fredrikekre/Literate.jl).*"
   ],
   "metadata": {}
  }
 ],
 "nbformat_minor": 3,
 "metadata": {
  "language_info": {
   "file_extension": ".jl",
   "mimetype": "application/julia",
   "name": "julia",
   "version": "1.10.7"
  },
  "kernelspec": {
   "name": "julia-1.10",
   "display_name": "Julia 1.10.7",
   "language": "julia"
  }
 },
 "nbformat": 4
}
